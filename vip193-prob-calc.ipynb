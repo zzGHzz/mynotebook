{
 "cells": [
  {
   "cell_type": "code",
   "execution_count": 1,
   "metadata": {},
   "outputs": [],
   "source": [
    "from scipy.stats import binom\n",
    "import math"
   ]
  },
  {
   "cell_type": "markdown",
   "metadata": {},
   "source": [
    "Notations\n",
    "\n",
    "* `d` - minimum number of backers required by a heavy block\n",
    "* `f` - presumed number of malicious nodes\n",
    "* `p` - probability of becoming a backer\n",
    "* `a` - presumed percentage of malicous nodes"
   ]
  },
  {
   "source": [
    "`F` computes a probability of a heavy block completely controlled by adversaries"
   ],
   "cell_type": "markdown",
   "metadata": {}
  },
  {
   "cell_type": "code",
   "execution_count": 2,
   "metadata": {},
   "outputs": [],
   "source": [
    "def F(d, p, f):\n",
    "    sum = 0\n",
    "    for i in range(d, f):\n",
    "        sum += binom.pmf(i, f, p)\n",
    "    return sum"
   ]
  },
  {
   "source": [
    "Scheme 3 - use `d` VRF betas"
   ],
   "cell_type": "markdown",
   "metadata": {}
  },
  {
   "source": [
    "def B0(d, c, N):\n",
    "    sum = 0\n",
    "    for i in range(d, N):\n",
    "        sum += binom.pmf(i, N, c/N) * math.comb(i, d)\n",
    "    return sum\n",
    "\n",
    "def B(a, d, c, N):\n",
    "    ret = a / (1 - a)\n",
    "    ret *= B0(d, c, N)\n",
    "    return ret\n",
    "\n",
    "def P(a, d, c, N):\n",
    "    ret = 0\n",
    "    f = math.ceil(a * N)\n",
    "    for i in range(d, f):\n",
    "        ret += binom.pmf(i, f, c/N) * math.comb(i, d)\n",
    "    ret *= a\n",
    "    return ret\n",
    "\n",
    "def M(a, d, c, N):\n",
    "    p = P(a, d, c, N)\n",
    "    return p / (1 - p) \n",
    "\n",
    "a, d, c, N = 20/101, 6, 8, 101\n",
    "print('B =', B(a,d,c,N))\n",
    "print('M =', M(a,d,c,N))\n",
    "print('pd_2 =',B(a,d,c,N)*M(a,d,c,N))\n",
    "print('pd_3 =',B(a,d,c,N)*M(a,d,c,N)**2)\n",
    "print('pd_4 =',B(a,d,c,N)*M(a,d,c,N)**3)"
   ],
   "cell_type": "code",
   "metadata": {},
   "execution_count": 27,
   "outputs": [
    {
     "output_type": "stream",
     "name": "stdout",
     "text": [
      "B = 77.27691408607794\nM = 0.0018990133526892927\npd_2 = 0.14674989170408528\npd_3 = 0.0002786800038517656\npd_4 = 5.292170484420064e-07\n"
     ]
    }
   ]
  },
  {
   "source": [
    "Scheme 5 - use the smallest `m` betas from a heavy block"
   ],
   "cell_type": "markdown",
   "metadata": {}
  },
  {
   "cell_type": "code",
   "execution_count": 26,
   "metadata": {},
   "outputs": [
    {
     "output_type": "stream",
     "name": "stdout",
     "text": [
      "B = 0.7852634018439517\nM = 0.008766224453337886\npd_2 = 0.006883795235555744\npd_3 = 6.034489412569959e-05\npd_4 = 5.289968865187936e-07\n"
     ]
    }
   ],
   "source": [
    "def B0(m, d, c, N):\n",
    "    sum = 0\n",
    "    for i in range(d, N):\n",
    "        sum += binom.pmf(i, N, c/N) * math.comb(i-d+m, m)\n",
    "    return sum\n",
    "\n",
    "def B(a, m, d, c, N):\n",
    "    ret = a / (1 - a)\n",
    "    ret *= B0(m, d, c, N)\n",
    "    return ret\n",
    "\n",
    "def P(a, m, d, c, N):\n",
    "    ret = 0\n",
    "    f = math.ceil(a * N)\n",
    "    for i in range(d-m, f):\n",
    "        if i >= d:\n",
    "            ret += binom.pmf(i, f, c/N) * math.comb(i, m)\n",
    "        else:\n",
    "            ret += binom.pmf(i, f, c/N) * math.comb(i, d-i) / math.comb(d, d-i)\n",
    "    ret *= a\n",
    "    return ret\n",
    "\n",
    "def M(a, m, d, c, N):\n",
    "    p = P(a, m, d, c, N)\n",
    "    return p / (1 - p) \n",
    "\n",
    "a, m, d, c, N = 1/5, 1, 6, 8, 101\n",
    "print('B =', B(a,m,d,c,N))\n",
    "print('M =', M(a,m,d,c,N))\n",
    "print('pd_2 =',B(a,m,d,c,N)*M(a,m,d,c,N))\n",
    "print('pd_3 =',B(a,m,d,c,N)*M(a,m,d,c,N)**2)\n",
    "print('pd_4 =',B(a,m,d,c,N)*M(a,m,d,c,N)**3)"
   ]
  },
  {
   "cell_type": "code",
   "execution_count": null,
   "metadata": {},
   "outputs": [],
   "source": []
  }
 ],
 "metadata": {
  "kernelspec": {
   "name": "python3",
   "display_name": "Python 3",
   "language": "python"
  },
  "language_info": {
   "codemirror_mode": {
    "name": "ipython",
    "version": 3
   },
   "file_extension": ".py",
   "mimetype": "text/x-python",
   "name": "python",
   "nbconvert_exporter": "python",
   "pygments_lexer": "ipython3",
   "version": "3.9.1-final"
  }
 },
 "nbformat": 4,
 "nbformat_minor": 4
}