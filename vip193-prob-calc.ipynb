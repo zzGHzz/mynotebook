{
 "cells": [
  {
   "cell_type": "code",
   "execution_count": 2,
   "metadata": {},
   "outputs": [],
   "source": [
    "from scipy.stats import binom\n",
    "from texttable import Texttable\n",
    "import math"
   ]
  },
  {
   "cell_type": "markdown",
   "metadata": {},
   "source": [
    "Notations\n",
    "\n",
    "* `f` - presumed number of malicious nodes\n",
    "* `c` - expected number of nodes qualified for backers\n",
    "* `N` - total number of nodes"
   ]
  },
  {
   "source": [
    "`F` computes a probability of a committee having at least `d` backers completely controlled by malicious nodes"
   ],
   "cell_type": "markdown",
   "metadata": {}
  },
  {
   "cell_type": "code",
   "execution_count": 38,
   "metadata": {},
   "outputs": [
    {
     "output_type": "stream",
     "name": "stdout",
     "text": [
      "+---+-------+\n| d | F     |\n+---+-------+\n| 1 | 0.823 |\n+---+-------+\n| 2 | 0.504 |\n+---+-------+\n| 3 | 0.229 |\n+---+-------+\n| 4 | 0.080 |\n+---+-------+\n| 5 | 0.022 |\n+---+-------+\n| 6 | 0.005 |\n+---+-------+\n"
     ]
    }
   ],
   "source": [
    "def F(d, c, f, N):\n",
    "    x = 0\n",
    "    p = c / N\n",
    "    for i in range(d, f):\n",
    "        x += binom.pmf(i, f, p)\n",
    "    return x\n",
    "\n",
    "ds = [1,2,3,4,5,6]\n",
    "f, c, N = 21, 8, 101\n",
    "t = Texttable()\n",
    "t.set_cols_dtype(['i','a'])\n",
    "t.add_row(['d', 'F'])\n",
    "for d in ds:\n",
    "    t.add_row([d, F(d, c, f, N)])\n",
    "\n",
    "print(t.draw())"
   ]
  },
  {
   "source": [
    "Compute the probability of adversaries being able to predict the beacon of the next `k`th epoch if using the smallest `m` betas from a block with at least `d` backers to generate the beacon"
   ],
   "cell_type": "markdown",
   "metadata": {}
  },
  {
   "cell_type": "code",
   "execution_count": 8,
   "metadata": {},
   "outputs": [
    {
     "output_type": "stream",
     "name": "stdout",
     "text": [
      "+---+---+-----------+-----------+-----------+-----------+-----------+\n| d | m | B         | M         | Pd_2      | Pd_3      | Pd_4      |\n+---+---+-----------+-----------+-----------+-----------+-----------+\n| 5 | 3 | 9.741e+00 | 4.644e-02 | 4.524e-01 | 2.101e-02 | 9.755e-04 |\n+---+---+-----------+-----------+-----------+-----------+-----------+\n"
     ]
    }
   ],
   "source": [
    "def B0(m, d, c, N):\n",
    "    sum = 0\n",
    "    for i in range(d, N):\n",
    "        sum += binom.pmf(i, N, c/N) * math.comb(i-d+m, m)\n",
    "    return sum\n",
    "\n",
    "def B(a, m, d, c, N):\n",
    "    ret = a / (1 - a)\n",
    "    ret *= B0(m, d, c, N)\n",
    "    return ret\n",
    "\n",
    "def P(a, m, d, c, N):\n",
    "    y1 = 0\n",
    "    y2 = 0\n",
    "  \n",
    "    for i in range(d, N):\n",
    "        x1 = 0\n",
    "        for j in range(m, i-d+m):\n",
    "            x1 += binom.pmf(j, i, a) * math.comb(j, m) * math.comb(i-d+m, j) / math.comb(i, j)\n",
    "        y1 += binom.pmf(i, N, c/N) * x1\n",
    "\n",
    "    for i in range(d, N):\n",
    "        x2 = 0\n",
    "        for j in range(m, i):\n",
    "            x2 += binom.pmf(j, i, a) * math.comb(i-m, j-m) / math.comb(i, j)\n",
    "        y2 += binom.pmf(i, N, c/N) * x2\n",
    "\n",
    "    return y1*a + y2*(1-a)\n",
    "\n",
    "def M(a, m, d, c, N):\n",
    "    p = P(a, m, d, c, N)\n",
    "    return p / (1 - p) \n",
    "\n",
    "def Pd(k, a, m, d, c, N):\n",
    "    return B(a, m, d, c, N) * M(a, m, d, c, N)**(k-1)\n",
    "\n",
    "t = Texttable()\n",
    "t.set_cols_dtype(['i', 'i', 'e', 'e', 'e', 'e', 'e'])\n",
    "t.add_row(['d', 'm', 'B', 'M', 'Pd_2', 'Pd_3', 'Pd_4'])\n",
    "\n",
    "a, c, N = 20/101, 8, 101\n",
    "ms = [3]\n",
    "ds = [5]\n",
    "\n",
    "for d in ds:\n",
    "    for m in ms:     \n",
    "        t.add_row([d, m, B(a,m,d,c,N), M(a,m,d,c,N), Pd(2,a,m,d,c,N), Pd(3,a,m,d,c,N), Pd(4,a,m,d,c,N)])\n",
    "\n",
    "print(t.draw())"
   ]
  },
  {
   "cell_type": "code",
   "execution_count": null,
   "metadata": {},
   "outputs": [],
   "source": []
  }
 ],
 "metadata": {
  "kernelspec": {
   "name": "python3",
   "display_name": "Python 3",
   "language": "python"
  },
  "language_info": {
   "codemirror_mode": {
    "name": "ipython",
    "version": 3
   },
   "file_extension": ".py",
   "mimetype": "text/x-python",
   "name": "python",
   "nbconvert_exporter": "python",
   "pygments_lexer": "ipython3",
   "version": "3.9.1-final"
  }
 },
 "nbformat": 4,
 "nbformat_minor": 4
}