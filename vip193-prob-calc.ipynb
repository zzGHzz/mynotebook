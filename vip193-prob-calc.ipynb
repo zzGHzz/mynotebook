{
 "cells": [
  {
   "cell_type": "code",
   "execution_count": null,
   "metadata": {},
   "outputs": [],
   "source": [
    "from scipy.stats import binom\n",
    "import math\n",
    "from texttable import Texttable"
   ]
  },
  {
   "cell_type": "markdown",
   "metadata": {},
   "source": [
    "Notations\n",
    "\n",
    "* `f` - presumed number of malicious nodes\n",
    "* `c` - expected number of nodes qualified for backers\n",
    "* `N` - total number of nodes"
   ]
  },
  {
   "source": [
    "`F` computes a probability of a committee having at least `d` backers completely controlled by malicious nodes"
   ],
   "cell_type": "markdown",
   "metadata": {}
  },
  {
   "cell_type": "code",
   "execution_count": 38,
   "metadata": {},
   "outputs": [
    {
     "output_type": "stream",
     "name": "stdout",
     "text": [
      "+---+-------+\n| d | F     |\n+---+-------+\n| 1 | 0.823 |\n+---+-------+\n| 2 | 0.504 |\n+---+-------+\n| 3 | 0.229 |\n+---+-------+\n| 4 | 0.080 |\n+---+-------+\n| 5 | 0.022 |\n+---+-------+\n| 6 | 0.005 |\n+---+-------+\n"
     ]
    }
   ],
   "source": [
    "def F(d, c, f, N):\n",
    "    x = 0\n",
    "    p = c / N\n",
    "    for i in range(d, f):\n",
    "        x += binom.pmf(i, f, p)\n",
    "    return x\n",
    "\n",
    "ds = [1,2,3,4,5,6]\n",
    "f, c, N = 21, 8, 101\n",
    "t = Texttable()\n",
    "t.set_cols_dtype(['i','a'])\n",
    "t.add_row(['d', 'F'])\n",
    "for d in ds:\n",
    "    t.add_row([d, F(d, c, f, N)])\n",
    "\n",
    "print(t.draw())"
   ]
  },
  {
   "source": [
    "Compute the probability of adversaries being able to predict the beacon of the next `k`th epoch if using the smallest `m` betas from a block with at least `d` backers to generate the beacon"
   ],
   "cell_type": "markdown",
   "metadata": {}
  },
  {
   "cell_type": "code",
   "execution_count": 39,
   "metadata": {},
   "outputs": [
    {
     "output_type": "stream",
     "name": "stdout",
     "text": [
      "+---+---+-----------+-----------+-----------+-----------+-----------+\n| d | m | B         | M         | Pd_2      | Pd_3      | Pd_4      |\n+---+---+-----------+-----------+-----------+-----------+-----------+\n| 5 | 1 | 1.013e+00 | 2.266e-01 | 2.294e-01 | 5.198e-02 | 1.178e-02 |\n+---+---+-----------+-----------+-----------+-----------+-----------+\n| 5 | 2 | 3.417e+00 | 1.172e-01 | 4.005e-01 | 4.695e-02 | 5.503e-03 |\n+---+---+-----------+-----------+-----------+-----------+-----------+\n| 5 | 3 | 9.863e+00 | 9.258e-02 | 9.131e-01 | 8.453e-02 | 7.825e-03 |\n+---+---+-----------+-----------+-----------+-----------+-----------+\n| 5 | 4 | 2.564e+01 | 6.037e-02 | 1.548e+00 | 9.348e-02 | 5.644e-03 |\n+---+---+-----------+-----------+-----------+-----------+-----------+\n| 5 | 5 | 6.174e+01 | 3.267e-02 | 2.017e+00 | 6.588e-02 | 2.152e-03 |\n+---+---+-----------+-----------+-----------+-----------+-----------+\n| 6 | 1 | 7.853e-01 | 1.616e-01 | 1.269e-01 | 2.051e-02 | 3.314e-03 |\n+---+---+-----------+-----------+-----------+-----------+-----------+\n| 6 | 2 | 2.404e+00 | 5.549e-02 | 1.334e-01 | 7.402e-03 | 4.108e-04 |\n+---+---+-----------+-----------+-----------+-----------+-----------+\n| 6 | 3 | 6.446e+00 | 4.039e-02 | 2.604e-01 | 1.052e-02 | 4.248e-04 |\n+---+---+-----------+-----------+-----------+-----------+-----------+\n| 6 | 4 | 1.578e+01 | 3.079e-02 | 4.859e-01 | 1.496e-02 | 4.607e-04 |\n+---+---+-----------+-----------+-----------+-----------+-----------+\n| 6 | 5 | 3.609e+01 | 1.932e-02 | 6.973e-01 | 1.347e-02 | 2.602e-04 |\n+---+---+-----------+-----------+-----------+-----------+-----------+\n| 7 | 1 | 5.803e-01 | 1.179e-01 | 6.839e-02 | 8.062e-03 | 9.502e-04 |\n+---+---+-----------+-----------+-----------+-----------+-----------+\n| 7 | 2 | 1.619e+00 | 2.836e-02 | 4.591e-02 | 1.302e-03 | 3.693e-05 |\n+---+---+-----------+-----------+-----------+-----------+-----------+\n| 7 | 3 | 4.042e+00 | 1.545e-02 | 6.244e-02 | 9.643e-04 | 1.489e-05 |\n+---+---+-----------+-----------+-----------+-----------+-----------+\n| 7 | 4 | 9.335e+00 | 1.207e-02 | 1.127e-01 | 1.360e-03 | 1.641e-05 |\n+---+---+-----------+-----------+-----------+-----------+-----------+\n| 7 | 5 | 2.031e+01 | 8.735e-03 | 1.774e-01 | 1.550e-03 | 1.354e-05 |\n+---+---+-----------+-----------+-----------+-----------+-----------+\n"
     ]
    }
   ],
   "source": [
    "def B0(m, d, c, N):\n",
    "    sum = 0\n",
    "    for i in range(d, N):\n",
    "        sum += binom.pmf(i, N, c/N) * math.comb(i-d+m, m)\n",
    "    return sum\n",
    "\n",
    "def B(a, m, d, c, N):\n",
    "    ret = a / (1 - a)\n",
    "    ret *= B0(m, d, c, N)\n",
    "    return ret\n",
    "\n",
    "def P(a, m, d, c, N):\n",
    "    ret1 = 0\n",
    "    ret2 = 0\n",
    "    f = math.ceil(a * N)\n",
    "    for i in range(d-m, f):\n",
    "        if i >= d:\n",
    "            ret1 += binom.pmf(i, f, c/N) * math.comb(i, m)\n",
    "        else:\n",
    "            ret1 += binom.pmf(i, f, c/N) * math.comb(i, d-i) / math.comb(d, d-i)\n",
    "\n",
    "    for i in range(d, f):\n",
    "        x = 0\n",
    "        for j in range(m, i):\n",
    "            x += binom.pmf(j, f, c/N) * math.comb(j, m) / math.comb(i, m)\n",
    "        ret2 += binom.pmf(i, N, c/N) * x\n",
    "\n",
    "    return ret1*a + ret2*(1-a)\n",
    "\n",
    "def M(a, m, d, c, N):\n",
    "    p = P(a, m, d, c, N)\n",
    "    return p / (1 - p) \n",
    "\n",
    "def Pd(k, a, m, d, c, N):\n",
    "    return B(a, m, d, c, N) * M(a, m, d, c, N)**(k-1)\n",
    "\n",
    "t = Texttable()\n",
    "t.set_cols_dtype(['i', 'i', 'e', 'e', 'e', 'e', 'e'])\n",
    "t.add_row(['d', 'm', 'B', 'M', 'Pd_2', 'Pd_3', 'Pd_4'])\n",
    "\n",
    "a, c, N = 1/5, 8, 101\n",
    "ms = [1, 2, 3, 4, 5]\n",
    "ds = [5, 6, 7]\n",
    "\n",
    "for d in ds:\n",
    "    for m in ms:     \n",
    "        t.add_row([d, m, B(a,m,d,c,N), M(a,m,d,c,N), Pd(2,a,m,d,c,N), Pd(3,a,m,d,c,N), Pd(4,a,m,d,c,N)])\n",
    "\n",
    "print(t.draw())"
   ]
  },
  {
   "cell_type": "code",
   "execution_count": null,
   "metadata": {},
   "outputs": [],
   "source": []
  }
 ],
 "metadata": {
  "kernelspec": {
   "name": "python3",
   "display_name": "Python 3",
   "language": "python"
  },
  "language_info": {
   "codemirror_mode": {
    "name": "ipython",
    "version": 3
   },
   "file_extension": ".py",
   "mimetype": "text/x-python",
   "name": "python",
   "nbconvert_exporter": "python",
   "pygments_lexer": "ipython3",
   "version": "3.9.1-final"
  }
 },
 "nbformat": 4,
 "nbformat_minor": 4
}