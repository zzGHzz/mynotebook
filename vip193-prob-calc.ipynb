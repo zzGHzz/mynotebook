{
 "cells": [
  {
   "cell_type": "code",
   "execution_count": 2,
   "metadata": {},
   "outputs": [],
   "source": [
    "from scipy.stats import binom\n",
    "import math"
   ]
  },
  {
   "cell_type": "markdown",
   "metadata": {},
   "source": [
    "Notations\n",
    "\n",
    "* d - number of backers\n",
    "* f - presumed number of malicious nodes\n",
    "* p - probability of becoming a backer\n",
    "* a - presumed percentage of malicous nodes"
   ]
  },
  {
   "cell_type": "code",
   "execution_count": 18,
   "metadata": {},
   "outputs": [],
   "source": [
    "def F(d, p, f):\n",
    "    sum = 0\n",
    "    for i in range(d, f):\n",
    "        sum += binom.pmf(i, f, p)\n",
    "    return sum"
   ]
  },
  {
   "cell_type": "code",
   "execution_count": 5,
   "metadata": {},
   "outputs": [],
   "source": [
    "def B0(d, c, N):\n",
    "    sum = 0\n",
    "    for i in range(d, N):\n",
    "        sum += binom.pmf(i, N, c/N) * math.comb(i, d)\n",
    "    return sum\n",
    "\n",
    "def B(a, d, c, N):\n",
    "    ret = a / (1 - a)\n",
    "    ret *= B0(d, c, N)\n",
    "    return ret\n",
    "\n",
    "def P(a, d, c, N):\n",
    "    ret = 0\n",
    "    f = math.ceil(a * N)\n",
    "    for i in range(d, f):\n",
    "        ret += binom.pmf(i, f, c/N) * math.comb(i, d)\n",
    "    ret *= a\n",
    "    return ret\n",
    "\n",
    "def M(a, d, c, N):\n",
    "    p = P(a, d, c, N)\n",
    "    return p / (1 - p) "
   ]
  },
  {
   "cell_type": "code",
   "execution_count": 7,
   "metadata": {},
   "outputs": [
    {
     "name": "stdout",
     "output_type": "stream",
     "text": [
      "B= 82.1550192877616\n",
      "M= 0.0027940434135559117\n",
      "pd_2= 0.2295446905315292\n",
      "pd_3= 0.0006413578306963492\n",
      "pd_4= 1.791981622589642e-06\n"
     ]
    }
   ],
   "source": [
    "a, d, c, N = 21/101, 6, 8, 101\n",
    "print('B=', B(a,d,c,N))\n",
    "print('M=', M(a,d,c,N))\n",
    "print('pd_2=',B(a,d,c,N)*M(a,d,c,N))\n",
    "print('pd_3=',B(a,d,c,N)*M(a,d,c,N)**2)\n",
    "print('pd_4=',B(a,d,c,N)*M(a,d,c,N)**3)"
   ]
  },
  {
   "cell_type": "code",
   "execution_count": null,
   "metadata": {},
   "outputs": [],
   "source": []
  }
 ],
 "metadata": {
  "kernelspec": {
   "display_name": "Python 3",
   "language": "python",
   "name": "python3"
  },
  "language_info": {
   "codemirror_mode": {
    "name": "ipython",
    "version": 3
   },
   "file_extension": ".py",
   "mimetype": "text/x-python",
   "name": "python",
   "nbconvert_exporter": "python",
   "pygments_lexer": "ipython3",
   "version": "3.8.6"
  }
 },
 "nbformat": 4,
 "nbformat_minor": 4
}